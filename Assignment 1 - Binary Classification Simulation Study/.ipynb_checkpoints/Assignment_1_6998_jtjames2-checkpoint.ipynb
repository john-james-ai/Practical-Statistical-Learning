{
 "cells": [
  {
   "cell_type": "markdown",
   "metadata": {},
   "source": [
    "# Coding Assignment 1\n",
    "## Overview: Linear and Quadratic Regression vs.$K$-Nearest Neighbors\n",
    "\n",
    "Linear Regression, Quadratic Regression, Bayes Rule, and k-Nearest Neighbors are evaluated on a simulated 2-dimensional dataset to evaluate training and test performance of the methods as well as to observe the effects of hyperparameter settings on performance.\n",
    "\n",
    "### Data \n",
    "The training data $X\\in \\mathbb{R^2}$ and $Y= (0,1)$ is generated from a mixture of 10 Gaussian distributions with uncorrelated components and different means, i.e. \n",
    "\n",
    "$$X|Y=k, Z=l \\sim \\mathcal{N}(m_{kl},s^2\\mathcal{I}_2),$$\n",
    "\n",
    "where $k=0,1, l=1:10, P(Y=k)=1/2, and P(Z=1)=1/10$. This simulation follows that published in Elements of Statistical Learning Section 2.3.  \n",
    "\n",
    "### Method\n",
    "#### Data Generation\n",
    "The first step in the exercise was to create the centers $\\mu = 1,2,3,...,9,10$ for each of the 10 Gaussian distributions. Ten Gaussian distributions were created for each class $l=(0,1)$ as follows:\n",
    "\n",
    "$$m_{0l}i.i.d. \\sim N((0, 1)^T , \\sigma^2I_2)$$\n",
    "$$m_{1l}i.i.d. \\sim N((1, 0)^T , \\sigma^2I_2)$$\n",
    "\n",
    "Then, repeat the following simulation 20 times using the same set of centers generated above. In each simulation,\n",
    "\n",
    "1. follow the data generating process to generate a training sample of size 200 and a test sample of size 10,000, and\n",
    "2. calculate the training and test errors (the averaged 0/1 error).\n",
    "\n",
    "During each simulation, training and test errors will be computed for each of the following four methods:\n",
    "\u000f Linear regression with cut-of value 0.5,\n",
    "\u000f quadratic regression with cut-of value 0.5,\n",
    "\u000f kNN classication with k chosen by 10-fold cross-validation, and\n",
    "\u000f the Bayes rule (assume your know the values of mkl's and s).\n"
   ]
  },
  {
   "cell_type": "code",
   "execution_count": null,
   "metadata": {},
   "outputs": [],
   "source": [
    "import numpy as np\n",
    "import matplotlib.pyplot as plt\n",
    "from sklearn.neighbors import KNeighborsClassifier as knn\n",
    "from sklearn import linear_model as lm\n",
    "\n",
    "np.random.seed(6998)\n",
    "\n",
    "p = 2\n",
    "v = 2\n",
    "s = v/np.sqrt(5)      # sd for generating x   \n",
    "n = 100    # 2n obs (in total); n from each class       \n",
    "m1 = [1,0]\n",
    "m0 = [0,1]"
   ]
  },
  {
   "cell_type": "markdown",
   "metadata": {},
   "source": [
    "## Data Generation\n",
    "Generate a matrix of shape (2n,p) with entries being iid samples from a normal distribution with a zero mean and variance s-squared."
   ]
  },
  {
   "cell_type": "code",
   "execution_count": null,
   "metadata": {},
   "outputs": [],
   "source": [
    "train = np.random.normal(size = (2 * n, p)) * s \\\n",
    "            + np.concatenate([np.array([m1] * n), np.array([m0] * n)])\n",
    "print(train.shape())            "
   ]
  },
  {
   "cell_type": "code",
   "execution_count": null,
   "metadata": {},
   "outputs": [],
   "source": []
  }
 ],
 "metadata": {
  "kernelspec": {
   "display_name": "mcs",
   "language": "python",
   "name": "mcs"
  },
  "language_info": {
   "name": ""
  }
 },
 "nbformat": 4,
 "nbformat_minor": 4
}
