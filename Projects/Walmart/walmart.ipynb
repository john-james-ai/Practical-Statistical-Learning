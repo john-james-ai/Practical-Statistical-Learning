{
 "cells": [
  {
   "cell_type": "code",
   "execution_count": null,
   "metadata": {},
   "outputs": [],
   "source": [
    "library(lubridate)\n",
    "library(tidyverse)\n",
    "library(glmnet)\n",
    "library(ggplot2)\n",
    "library(ggthemes)\n",
    "library(forecast)\n",
    "library(tseries)"
   ]
  },
  {
   "cell_type": "code",
   "execution_count": null,
   "metadata": {},
   "outputs": [],
   "source": [
    "# read in train / test dataframes\n",
    "train <- readr::read_csv('data/train_ini.csv')\n",
    "test <- readr::read_csv('data/test.csv')\n",
    "\n",
    "# save weighted mean absolute error WMAE\n",
    "num_folds <- 10\n",
    "wae <- rep(0, num_folds)\n",
    "\n",
    "for (t in 1:num_folds) {\n",
    "  fold_file <- paste0('data/fold_', t, '.csv')\n",
    "  new_train <- readr::read_csv(fold_file, \n",
    "                               col_types = cols())\n",
    "  print(summary(new_train))\n",
    "}  "
   ]
  },
  {
   "cell_type": "code",
   "execution_count": null,
   "metadata": {},
   "outputs": [],
   "source": [
    "mypredict = function(){\n",
    "  # as usual\n",
    "  start_date <- ymd(\"2011-03-01\") %m+% months(2 * (t - 1))\n",
    "  end_date <- ymd(\"2011-05-01\") %m+% months(2 * (t - 1))\n",
    "  test_current <- test %>% filter(Date >= start_date & Date < end_date) %>% select(-IsHoliday) %>% mutate(Wk = week(Date))\n",
    "  \n",
    "  if (t > 1){\n",
    "    train <<- train %>% add_row(new_train)\n",
    "  }\n",
    "  \n",
    "  # find the unique pairs of (Store, Dept) combo that appeared in both training and test sets\n",
    "  train_pairs <- train[, 1:2] %>% count(Store, Dept) %>% filter(n != 0)\n",
    "  test_pairs <- test_current[, 1:2] %>% count(Store, Dept) %>% filter(n != 0)\n",
    "  unique_pairs <- intersect(train_pairs[, 1:2], test_pairs[, 1:2])\n",
    "  \n",
    "  # pick out the needed training samples, convert to dummy coding, then put them into a list\n",
    "  train_split <- unique_pairs %>% \n",
    "    left_join(train, by = c('Store', 'Dept')) %>% \n",
    "    mutate(Wk = factor(ifelse(year(Date) == 2010, week(Date) - 1, week(Date)), levels = 1:52)) %>% \n",
    "    mutate(Yr = year(Date))\n",
    "  train_split = as_tibble(model.matrix(~ Weekly_Sales + Store + Dept + Yr + Wk, train_split)) %>% group_split(Store, Dept)\n",
    "  summary(train_split)\n",
    "  \n",
    "  # do the same for the test set\n",
    "  test_split <- unique_pairs %>% \n",
    "    left_join(test_current, by = c('Store', 'Dept')) %>% \n",
    "    mutate(Wk = factor(ifelse(year(Date) == 2010, week(Date) - 1, week(Date)), levels = 1:52)) %>% \n",
    "    mutate(Yr = year(Date))\n",
    "  test_split = as_tibble(model.matrix(~ Store + Dept + Yr + Wk, test_split)) %>% mutate(Date = test_split$Date) %>% group_split(Store, Dept)\n",
    "\n",
    "  # pre-allocate a list to store the predictions\n",
    "  test_pred <- vector(mode = \"list\", length = nrow(unique_pairs))\n",
    "    \n",
    "  print(summary(train_split))\n",
    "  print(summary(test_split))\n",
    "  \n",
    "}\n",
    "  "
   ]
  }
 ],
 "metadata": {
  "kernelspec": {
   "display_name": "R",
   "language": "R",
   "name": "ir"
  },
  "language_info": {
   "codemirror_mode": "r",
   "file_extension": ".r",
   "mimetype": "text/x-r-source",
   "name": "R",
   "pygments_lexer": "r",
   "version": "4.0.3"
  }
 },
 "nbformat": 4,
 "nbformat_minor": 4
}
